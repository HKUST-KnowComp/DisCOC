{
 "cells": [
  {
   "cell_type": "code",
   "execution_count": 1,
   "metadata": {},
   "outputs": [],
   "source": [
    "import pickle\n",
    "import re\n",
    "import ujson as json\n",
    "import numpy as np\n",
    "import matplotlib.pyplot as plt\n",
    "import pandas as pd\n",
    "\n",
    "from collections import Counter\n",
    "from pprint import pprint\n",
    "from tqdm import tqdm\n",
    "\n",
    "\n",
    "font = {\"family\" : \"Times New Roman\",\n",
    "        \"size\"   : 14,\n",
    "        \"weight\": \"bold\"}\n",
    "plt.rc(\"font\", **font)\n",
    "\n",
    "\n",
    "colors = [(0.6509803921568628, 0.807843137254902, 0.8901960784313725),\n",
    " (0.12156862745098039, 0.47058823529411764, 0.7058823529411765),\n",
    " (0.6980392156862745, 0.8745098039215686, 0.5411764705882353),\n",
    " (0.2, 0.6274509803921569, 0.17254901960784313),\n",
    " (0.984313725490196, 0.6039215686274509, 0.6),\n",
    " (0.8901960784313725, 0.10196078431372549, 0.10980392156862745),\n",
    " (0.9921568627450981, 0.7490196078431373, 0.43529411764705883),\n",
    " (1.0, 0.4980392156862745, 0.0),\n",
    " (0.792156862745098, 0.6980392156862745, 0.8392156862745098),\n",
    " (0.41568627450980394, 0.23921568627450981, 0.6039215686274509),\n",
    " (1.0, 1.0, 0.6),\n",
    " (0.6941176470588235, 0.34901960784313724, 0.1568627450980392)]"
   ]
  },
  {
   "cell_type": "markdown",
   "metadata": {},
   "source": [
    "### Clean Text"
   ]
  },
  {
   "cell_type": "code",
   "execution_count": 582,
   "metadata": {},
   "outputs": [],
   "source": [
    "with open(\"../data/arg_impact/argument_impact.pkl\", \"rb\") as f:\n",
    "    data = pickle.load(f)"
   ]
  },
  {
   "cell_type": "code",
   "execution_count": 583,
   "metadata": {},
   "outputs": [
    {
     "data": {
      "text/plain": [
       "{'claim_text': \"There is no evidence his policies are any more brutal, inhumane or racially motivated that Obama's, given Obama isolated children from their parents and kept those children in cages. Trump is simply more effective at dealing with people who have criminally entered the country.\",\n",
       " 'path': [\"Trump's attempts to reduce both legal and illegal immigration appears inhumane, and clearly racially motivated, to the degree that it is liable to have a damaging impact on America's future.\",\n",
       "  'With over 40k sealed indictments its fair to say he is trying to tackle systemic corruption like no other. \\nIndictments Master List',\n",
       "  \"Trump's cabinet choices were chiefly opponents of the offices they hold. They are corruptive forces. Several campaign managers are in prison for various crimes, and even Trump's family is under suspicion. www.npr.org www.edfaction.org en.wikipedia.org www.insidesources.com www.cnn.com en.wikipedia.org\",\n",
       "  'He has certainly not shown good judgement and/or the managerial ability to build and maintain a stable administrative team around him, which is a negative reflection of him as a President.',\n",
       "  'Donald Trump is a good President']}"
      ]
     },
     "execution_count": 583,
     "metadata": {},
     "output_type": "execute_result"
    }
   ],
   "source": [
    "data[\"test_X\"][1071]"
   ]
  },
  {
   "cell_type": "markdown",
   "metadata": {},
   "source": [
    "### Load Stance"
   ]
  },
  {
   "cell_type": "code",
   "execution_count": 872,
   "metadata": {},
   "outputs": [],
   "source": [
    "stance_labels = [\n",
    "    \"<none>\", \"<pro>\", \"<con>\"\n",
    "]"
   ]
  },
  {
   "cell_type": "code",
   "execution_count": 873,
   "metadata": {},
   "outputs": [],
   "source": [
    "with open(\"../data/arg_spec_stance/argument_specificity_stance.pkl\", \"rb\") as f:\n",
    "    stance = pickle.load(f)"
   ]
  },
  {
   "cell_type": "code",
   "execution_count": 874,
   "metadata": {},
   "outputs": [],
   "source": [
    "argument_id = dict()\n",
    "for _id, arg in stance[\"id_argument\"].items():\n",
    "    argument_id[arg] = _id"
   ]
  },
  {
   "cell_type": "code",
   "execution_count": 875,
   "metadata": {},
   "outputs": [],
   "source": [
    "stc = dict()\n",
    "for v in stance[\"child_parent_stance\"].values():\n",
    "    stc.update(v)\n",
    "stance = stc"
   ]
  },
  {
   "cell_type": "markdown",
   "metadata": {},
   "source": [
    "### Load Discourse"
   ]
  },
  {
   "cell_type": "code",
   "execution_count": 876,
   "metadata": {},
   "outputs": [],
   "source": [
    "INF = 1e30\n",
    "_INF = -1e30"
   ]
  },
  {
   "cell_type": "code",
   "execution_count": 877,
   "metadata": {},
   "outputs": [],
   "source": [
    "with open(\"../data/arg_impact/train_discourse.jsonl\", \"r\") as f:\n",
    "    train_disco = []\n",
    "    for x in f:\n",
    "        x = json.loads(x)\n",
    "        train_disco.append(x)\n",
    "        \n",
    "with open(\"../data/arg_impact/valid_discourse.jsonl\", \"r\") as f:\n",
    "    valid_disco = []\n",
    "    for x in f:\n",
    "        x = json.loads(x)\n",
    "        valid_disco.append(x)\n",
    "\n",
    "with open(\"../data/arg_impact/test_discourse.jsonl\", \"r\") as f:\n",
    "    test_disco = []\n",
    "    for x in f:\n",
    "        x = json.loads(x)\n",
    "        test_disco.append(x)"
   ]
  },
  {
   "cell_type": "code",
   "execution_count": 878,
   "metadata": {},
   "outputs": [],
   "source": [
    "discourse_labels = [\n",
    "    \"<Null>\",\n",
    "    \"<Concession>\", \"<Contrast>\",\n",
    "    \"<Reason>\", \"<Result>\", \"<Condition>\",\n",
    "    \"<Alternative>\", \"<ChosenAlternative>\", \"<Conjunction>\", \"<Exception>\", \"<Instantiation>\", \"<Restatement>\",\n",
    "    \"<Precedence>\", \"<Succession>\", \"<Synchrony>\"\n",
    "]"
   ]
  },
  {
   "cell_type": "code",
   "execution_count": 879,
   "metadata": {},
   "outputs": [
    {
     "data": {
      "text/plain": [
       "array([ 1, 10,  1])"
      ]
     },
     "execution_count": 879,
     "metadata": {},
     "output_type": "execute_result"
    }
   ],
   "source": [
    "np.array(train_disco[0][\"discourse\"]).argmax(axis=1)"
   ]
  },
  {
   "cell_type": "code",
   "execution_count": null,
   "metadata": {},
   "outputs": [],
   "source": []
  },
  {
   "cell_type": "markdown",
   "metadata": {},
   "source": [
    "### Generate Paths"
   ]
  },
  {
   "cell_type": "code",
   "execution_count": 880,
   "metadata": {},
   "outputs": [],
   "source": [
    "impact_labels = [\"IMPACTFUL\", \"MEDIUM IMPACT\", \"NOT IMPACTFUL\"]"
   ]
  },
  {
   "cell_type": "code",
   "execution_count": 881,
   "metadata": {},
   "outputs": [
    {
     "name": "stderr",
     "output_type": "stream",
     "text": [
      "5170it [00:00, 25001.56it/s]\n",
      "1108it [00:00, 37332.42it/s]\n",
      "1108it [00:00, 19978.29it/s]\n"
     ]
    }
   ],
   "source": [
    "train = []\n",
    "for i, (x, y) in tqdm(enumerate(zip(data[\"train_X\"], data[\"train_y\"]))):\n",
    "    _id = \"train_%d\" % (i)\n",
    "    text = [x[\"claim_text\"]]\n",
    "    context = x[\"path\"][::-1]\n",
    "    \n",
    "    stc = [\"<null>\"]\n",
    "    for z in context[1:] + text:\n",
    "        if z in argument_id:\n",
    "            stc.append(\"<%s>\" % (stance[argument_id[z]][1]))\n",
    "        else:\n",
    "            stc.append(\"<unk>\")\n",
    "\n",
    "    disco = [[0.0] * len(discourse_labels)]\n",
    "    disco[0][0] = INF\n",
    "    for d in train_disco[i][\"discourse\"]:\n",
    "        disco.append([_INF] + d)\n",
    "            \n",
    "    train.append({\n",
    "        \"id\": _id,\n",
    "        \"text\": text,\n",
    "        \"context\": context,\n",
    "        \"label\": y,\n",
    "        \"stance_label\": stc,\n",
    "        \"discourse_label\": [discourse_labels[z] for z in np.array(disco).argmax(axis=1)],\n",
    "        \"discourse_logit\": disco\n",
    "    })\n",
    "    \n",
    "valid = []\n",
    "for i, (x, y) in tqdm(enumerate(zip(data[\"val_X\"], data[\"val_y\"]))):\n",
    "    _id = \"valid_%d\" % (i)\n",
    "    text = [x[\"claim_text\"]]\n",
    "    context = x[\"path\"][::-1]\n",
    "    \n",
    "    stc = [\"<null>\"]\n",
    "    for z in context[1:] + text:\n",
    "        if z in argument_id:\n",
    "            stc.append(\"<%s>\" % (stance[argument_id[z]][1]))\n",
    "        else:\n",
    "            stc.append(\"<unk>\")\n",
    "            \n",
    "    disco = [[0.0] * len(discourse_labels)]\n",
    "    disco[0][0] = INF\n",
    "    for d in valid_disco[i][\"discourse\"]:\n",
    "        disco.append([_INF] + d)\n",
    "            \n",
    "    valid.append({\n",
    "        \"id\": _id,\n",
    "        \"text\": text,\n",
    "        \"context\": context,\n",
    "        \"label\": y,\n",
    "        \"stance_label\": stc,\n",
    "        \"discourse_label\": [discourse_labels[z] for z in np.array(disco).argmax(axis=1)],\n",
    "        \"discourse_logit\": disco\n",
    "    })\n",
    "\n",
    "test = []\n",
    "for i, (x, y) in tqdm(enumerate(zip(data[\"test_X\"], data[\"test_y\"]))):\n",
    "    _id = \"test_%d\" % (i)\n",
    "    text = [x[\"claim_text\"]]\n",
    "    context = x[\"path\"][::-1]\n",
    "    \n",
    "    stc = [\"<null>\"]\n",
    "    for z in context[1:] + text:\n",
    "        if z in argument_id:\n",
    "            stc.append(\"<%s>\" % (stance[argument_id[z]][1]))\n",
    "        else:\n",
    "            stc.append(\"<unk>\")\n",
    "            \n",
    "    disco = [[0.0] * len(discourse_labels)]\n",
    "    disco[0][0] = INF\n",
    "    for d in test_disco[i][\"discourse\"]:\n",
    "        disco.append([_INF] + d)\n",
    "\n",
    "            \n",
    "    test.append({\n",
    "        \"id\": _id,\n",
    "        \"text\": text,\n",
    "        \"context\": context,\n",
    "        \"label\": y,\n",
    "        \"stance_label\": stc,\n",
    "        \"discourse_label\": [discourse_labels[z] for z in np.array(disco).argmax(axis=1)],\n",
    "        \"discourse_logit\": disco\n",
    "    })"
   ]
  },
  {
   "cell_type": "code",
   "execution_count": 882,
   "metadata": {},
   "outputs": [
    {
     "data": {
      "text/plain": [
       "3"
      ]
     },
     "execution_count": 882,
     "metadata": {},
     "output_type": "execute_result"
    }
   ],
   "source": [
    "len(valid[0][\"context\"])"
   ]
  },
  {
   "cell_type": "code",
   "execution_count": 883,
   "metadata": {},
   "outputs": [
    {
     "data": {
      "text/plain": [
       "{'id': 'valid_0',\n",
       " 'label': 'IMPACTFUL',\n",
       " 'discourse': [[-0.5278699994087219,\n",
       "   1.7553333044052124,\n",
       "   3.708987236022949,\n",
       "   1.3934345245361328,\n",
       "   -3.4603917598724365,\n",
       "   -2.5592246055603027,\n",
       "   -0.6017796993255615,\n",
       "   2.552135944366455,\n",
       "   -3.3533661365509033,\n",
       "   0.1725900024175644,\n",
       "   2.9168059825897217,\n",
       "   -1.9838616847991943,\n",
       "   -2.305432081222534,\n",
       "   -1.2163629531860352],\n",
       "  [0.2548567056655884,\n",
       "   2.6281819343566895,\n",
       "   1.4121912717819214,\n",
       "   2.7082841396331787,\n",
       "   -3.547801971435547,\n",
       "   -2.4750161170959473,\n",
       "   -1.2365164756774902,\n",
       "   3.041994571685791,\n",
       "   -3.4573729038238525,\n",
       "   0.1875869184732437,\n",
       "   2.4660634994506836,\n",
       "   -1.3124133348464966,\n",
       "   -3.3140718936920166,\n",
       "   -0.7201653718948364],\n",
       "  [0.7514098882675171,\n",
       "   3.020397186279297,\n",
       "   2.396101474761963,\n",
       "   1.4136228561401367,\n",
       "   -3.3063316345214844,\n",
       "   -2.5815982818603516,\n",
       "   -0.8488167524337769,\n",
       "   2.296855926513672,\n",
       "   -3.2497196197509766,\n",
       "   0.6410343050956726,\n",
       "   2.090712547302246,\n",
       "   -2.4329090118408203,\n",
       "   -1.9420068264007568,\n",
       "   -1.1720507144927979]]}"
      ]
     },
     "execution_count": 883,
     "metadata": {},
     "output_type": "execute_result"
    }
   ],
   "source": [
    "valid_disco[0]"
   ]
  },
  {
   "cell_type": "code",
   "execution_count": 884,
   "metadata": {},
   "outputs": [
    {
     "name": "stdout",
     "output_type": "stream",
     "text": [
      "train_59\n",
      "1|||||Identity politics are detrimental to society.|||||Identity politics have given rights to marginalised groups throughout history.\n",
      "2-----Identity politics have given rights to marginalised groups throughout history.-----Laws are already being implemented under the guise of providing more rights for marginalized groups, which actually impede on others rights, such as Bill C-16 in Canada which amends the Canadian Human Rights Act, and makes it illegal for one to \"misgender\" an individual, and imposes a discretion on \"hate speech\" which can easily be used to silence an individual who is addressing a situation from a critical position rather than a position of hate.\n",
      "\n",
      "train_362\n",
      "1|||||Identity politics are detrimental to society.|||||Identity politics lead to less open dialogue and progress.\n",
      "2-----Identity politics lead to less open dialogue and progress.-----Identity politics put grievance at the source of political legitimacy. Because political actors tend to want more, rather than less power, identity politics therefore disincentivizes solving problems and working out conflicts, as doing so would reduce grievance and therefore erode the power of the aggrieved.\n",
      "\n",
      "train_592\n",
      "1|||||Identity politics are detrimental to society.|||||Identity politics are a distraction to more important issues.\n",
      "2-----Identity politics are a distraction to more important issues.-----Issues that negatively affect a group of people based on their identity are an important issue to those people, and thus should be treated as such.\n",
      "\n",
      "train_1162\n",
      "1-----Identity politics are detrimental to society.-----Identity politics prioritize personal experience over factual evidence.\n",
      "\n",
      "train_1353\n",
      "1-----Identity politics are detrimental to society.-----Identity politics alienate people from each other and lessen the potential to find common ground on issues.\n",
      "\n",
      "train_1868\n",
      "1-----Identity politics are detrimental to society.-----It is impossible to separate identity from politics as long as certain identities are politically suppressed.\n",
      "\n",
      "train_1875\n",
      "1-----Should a transgender persona only be performed by transgender people?-----That would be gender based discrimination, which is illegal. The gender of the performer is not in direct correlation with their performance.\n",
      "\n",
      "train_2289\n",
      "1|||||Identity politics are detrimental to society.|||||Identity politics alienate people from each other and lessen the potential to find common ground on issues.\n",
      "2-----Identity politics alienate people from each other and lessen the potential to find common ground on issues.-----There is nothing inherently alienating by admitting that different people in different groups might have different experiences and different political goals. Suggesting that coal miners in Kentucky have different experiences and different political goals than IT professionals in Boston doesn't automatically lessen the ability for both groups to find common ground. Overreacting, and claiming \"Identity politics\" as a way to shut down discussion lessens the ability to find common ground.\n",
      "\n",
      "train_2350\n",
      "1-----Identity politics are detrimental to society.-----Identity politics provide the partisanship needed to motivate social changes for equality.\n",
      "\n",
      "train_2689\n",
      "1|||||Identity politics are detrimental to society.|||||Identity politics provide the partisanship needed to motivate social changes for equality.\n",
      "2-----Identity politics provide the partisanship needed to motivate social changes for equality.-----The inclusion of identity politics in societal conversation allows for groups that are disadvantaged to know who supports them and is willing to treat their issues as important.\n",
      "\n",
      "train_3321\n",
      "1-----Should a transgender persona only be performed by transgender people?-----It is counterproductive for transgender people's acceptance in society.\n",
      "\n",
      "train_3392\n",
      "1|||||Identity politics are detrimental to society.|||||Identity politics lead to less open dialogue and progress.\n",
      "2-----Identity politics lead to less open dialogue and progress.-----Identity politics has driven a system of mass hysteria, that has lead many individuals into an echo chamber, where all ideas that do not align with the views within that echo chamber are discarded with utmost abhorrence and discrepancy. Hostility is not out of the ordinary towards those that simply stand in opposition of one's echo chamber.\n",
      "\n",
      "train_4061\n",
      "1-----Identity politics are detrimental to society.-----Identity politics strip a person of any value or individuality beyond their prescribed social group.\n",
      "\n",
      "train_4892\n",
      "1-----Should a transgender persona only be performed by transgender people?-----Limiting who is allowed to play a role on a gender basis rationale limits artistic liberty (Cate Blanchett could not have played Bob Dylan).\n",
      "\n",
      "train_5169\n",
      "1|||||Identity politics are detrimental to society.|||||Identity politics have given rights to marginalised groups throughout history.\n",
      "2-----Identity politics have given rights to marginalised groups throughout history.-----The Universal Declaration of Human Rights has given rights to every human being equally, and granting different rights to different groups undermines this.\n",
      "\n"
     ]
    }
   ],
   "source": [
    "for x in train:\n",
    "    if \"<unk>\" in x[\"stance_label\"]:\n",
    "        print(x[\"id\"])\n",
    "        for i in range(len(x[\"stance_label\"])):\n",
    "            if x[\"stance_label\"][i] == \"<unk>\":\n",
    "                if i < len(x[\"context\"]):\n",
    "                    print(i, x[\"context\"][i-1], x[\"context\"][i], sep=\"|||||\")\n",
    "                else:\n",
    "                    print(i, x[\"context\"][-1], x[\"text\"][0], sep=\"-----\")\n",
    "        print()\n",
    "\n",
    "# the missing topics are at\n",
    "# https://www.kialo.com/are-identity-politics-detrimental-to-society-7018?path=7018.0~7018.1&active=~7018.1&action=comments, \n",
    "# https://www.kialo.com/should-transgender-personae-only-be-performed-by-transgender-people-16846?path=16846.0~16846.1&active=~16846.1&action=comments"
   ]
  },
  {
   "cell_type": "code",
   "execution_count": 885,
   "metadata": {},
   "outputs": [],
   "source": [
    "train[59][\"stance_label\"][1] = \"<con>\"\n",
    "train[59][\"stance_label\"][2] = \"<con>\"\n",
    "\n",
    "train[362][\"stance_label\"][1] = \"<pro>\"\n",
    "train[362][\"stance_label\"][2] = \"<pro>\"\n",
    "\n",
    "train[592][\"stance_label\"][1] = \"<pro>\"\n",
    "train[592][\"stance_label\"][2] = \"<con>\"\n",
    "\n",
    "train[1162][\"stance_label\"][1] = \"<pro>\"\n",
    "\n",
    "train[1353][\"stance_label\"][1] = \"<pro>\"\n",
    "\n",
    "train[1868][\"stance_label\"][1] = \"<con>\"\n",
    "\n",
    "train[2289][\"stance_label\"][1] = \"<pro>\"\n",
    "train[2289][\"stance_label\"][2] = \"<con>\"\n",
    "\n",
    "train[2350][\"stance_label\"][1] = \"<con>\"\n",
    "\n",
    "train[2689][\"stance_label\"][1] = \"<con>\"\n",
    "train[2689][\"stance_label\"][2] = \"<pro>\"\n",
    "\n",
    "train[3392][\"stance_label\"][1] = \"<pro>\"\n",
    "train[3392][\"stance_label\"][2] = \"<pro>\"\n",
    "\n",
    "train[4061][\"stance_label\"][1] = \"<pro>\"\n",
    "\n",
    "train[5169][\"stance_label\"][1] = \"<con>\"\n",
    "train[5169][\"stance_label\"][2] = \"<con>\"\n",
    "\n",
    "train[1875][\"stance_label\"][1] = \"<con>\"\n",
    "\n",
    "train[3321][\"stance_label\"][1] = \"<con>\"\n",
    "\n",
    "train[4892][\"stance_label\"][1] = \"<con>\""
   ]
  },
  {
   "cell_type": "code",
   "execution_count": 886,
   "metadata": {},
   "outputs": [
    {
     "name": "stdout",
     "output_type": "stream",
     "text": [
      "valid_336\n",
      "1|||||Identity politics are detrimental to society.|||||Identity politics are a distraction to more important issues.\n",
      "2|||||Identity politics are a distraction to more important issues.|||||Issues that negatively affect a group of people based on their identity are an important issue to those people, and thus should be treated as such.\n",
      "3-----Issues that negatively affect a group of people based on their identity are an important issue to those people, and thus should be treated as such.-----Global issues that affect all groups should be addressed before issues that affect specific social groups.\n"
     ]
    }
   ],
   "source": [
    "for x in valid:\n",
    "    if \"<unk>\" in x[\"stance_label\"]:\n",
    "        print(x[\"id\"])\n",
    "        for i in range(len(x[\"stance_label\"])):\n",
    "            if x[\"stance_label\"][i] == \"<unk>\":\n",
    "                if i < len(x[\"context\"]):\n",
    "                    print(i, x[\"context\"][i-1], x[\"context\"][i], sep=\"|||||\")\n",
    "                else:\n",
    "                    print(i, x[\"context\"][-1], x[\"text\"][0], sep=\"-----\")\n",
    "\n",
    "# the missing topic is at https://www.kialo.com/are-identity-politics-detrimental-to-society-7018?path=7018.0~7018.1&active=~7018.1&action=comments"
   ]
  },
  {
   "cell_type": "code",
   "execution_count": 887,
   "metadata": {},
   "outputs": [],
   "source": [
    "valid[336][\"stance_label\"][1] = \"<pro>\"\n",
    "valid[336][\"stance_label\"][2] = \"<con>\"\n",
    "valid[336][\"stance_label\"][3] = \"<con>\""
   ]
  },
  {
   "cell_type": "code",
   "execution_count": 888,
   "metadata": {},
   "outputs": [
    {
     "name": "stdout",
     "output_type": "stream",
     "text": [
      "test_272\n",
      "1|||||Identity politics are detrimental to society.|||||Identity politics prioritize personal experience over factual evidence.\n",
      "2-----Identity politics prioritize personal experience over factual evidence.-----Identity politics uses both personal experience and factual evidence to change hearts and minds.\n",
      "test_277\n",
      "1-----Should a transgender persona only be performed by transgender people?-----A role should be given to the best actor, regardless their gender. A transgender man was assigned female at birth, hence some see no problem in casting a female actor for the role.\n",
      "test_956\n",
      "1-----Identity politics are detrimental to society.-----Identity politics lead to less open dialogue and progress.\n"
     ]
    }
   ],
   "source": [
    "for x in test:\n",
    "    if \"<unk>\" in x[\"stance_label\"]:\n",
    "        print(x[\"id\"])\n",
    "        for i in range(len(x[\"stance_label\"])):\n",
    "            if x[\"stance_label\"][i] == \"<unk>\":\n",
    "                if i < len(x[\"context\"]):\n",
    "                    print(i, x[\"context\"][i-1], x[\"context\"][i], sep=\"|||||\")\n",
    "                else:\n",
    "                    print(i, x[\"context\"][-1], x[\"text\"][0], sep=\"-----\")\n",
    "\n",
    "# the missing topics are at\n",
    "# https://www.kialo.com/are-identity-politics-detrimental-to-society-7018?path=7018.0~7018.1&active=~7018.1&action=comments, \n",
    "# https://www.kialo.com/should-transgender-personae-only-be-performed-by-transgender-people-16846?path=16846.0~16846.1&active=~16846.1&action=comments"
   ]
  },
  {
   "cell_type": "code",
   "execution_count": null,
   "metadata": {},
   "outputs": [],
   "source": []
  },
  {
   "cell_type": "code",
   "execution_count": 889,
   "metadata": {},
   "outputs": [],
   "source": [
    "test[272][\"stance_label\"][1] = \"<pro>\"\n",
    "test[272][\"stance_label\"][2] = \"<con>\"\n",
    "\n",
    "test[956][\"stance_label\"][1] = \"<pro>\"\n",
    "\n",
    "test[277][\"stance_label\"][1] = \"<con>\""
   ]
  },
  {
   "cell_type": "code",
   "execution_count": null,
   "metadata": {},
   "outputs": [],
   "source": []
  },
  {
   "cell_type": "code",
   "execution_count": 890,
   "metadata": {},
   "outputs": [],
   "source": [
    "import torch as th\n",
    "\n",
    "logits = th.stack([th.tensor(x[\"discourse_logit\"]).sum(dim=0) for x in train + valid + test], dim=0)\n"
   ]
  },
  {
   "cell_type": "code",
   "execution_count": 891,
   "metadata": {},
   "outputs": [
    {
     "data": {
      "text/plain": [
       "[('<Null>', tensor(-1.8133e+34)),\n",
       " ('<Concession>', tensor(132.3419)),\n",
       " ('<Contrast>', tensor(60562.7070)),\n",
       " ('<Reason>', tensor(60575.4375)),\n",
       " ('<Result>', tensor(46074.3828)),\n",
       " ('<Condition>', tensor(-87177.5469)),\n",
       " ('<Alternative>', tensor(-61574.5430)),\n",
       " ('<ChosenAlternative>', tensor(-14362.0127)),\n",
       " ('<Conjunction>', tensor(67708.9219)),\n",
       " ('<Exception>', tensor(-84756.4609)),\n",
       " ('<Instantiation>', tensor(10543.9658)),\n",
       " ('<Restatement>', tensor(64331.2578)),\n",
       " ('<Precedence>', tensor(-44775.6250)),\n",
       " ('<Succession>', tensor(-73490.7422)),\n",
       " ('<Synchrony>', tensor(-27253.0449))]"
      ]
     },
     "execution_count": 891,
     "metadata": {},
     "output_type": "execute_result"
    }
   ],
   "source": [
    "list(zip(discourse_labels, logits.sum(dim=0)))"
   ]
  },
  {
   "cell_type": "code",
   "execution_count": 892,
   "metadata": {},
   "outputs": [
    {
     "data": {
      "text/plain": [
       "tensor(-1.6367e+29)"
      ]
     },
     "execution_count": 892,
     "metadata": {},
     "output_type": "execute_result"
    }
   ],
   "source": [
    "th.stack([logits[i].mean(dim=0) for i in range(len(logits))]).mean(dim=0)"
   ]
  },
  {
   "cell_type": "code",
   "execution_count": 893,
   "metadata": {},
   "outputs": [
    {
     "name": "stderr",
     "output_type": "stream",
     "text": [
      "100%|██████████| 5170/5170 [00:00<00:00, 24653.67it/s]\n",
      "100%|██████████| 1108/1108 [00:00<00:00, 20208.24it/s]\n",
      "100%|██████████| 1108/1108 [00:00<00:00, 17463.66it/s]\n"
     ]
    }
   ],
   "source": [
    "with open(\"data/arg_impact/train.jsonl\", \"w\") as f:\n",
    "    for x in tqdm(train):\n",
    "        f.write(json.dumps(x))\n",
    "        f.write(\"\\n\")\n",
    "\n",
    "with open(\"data/arg_impact/valid.jsonl\", \"w\") as f:\n",
    "    for x in tqdm(valid):\n",
    "        f.write(json.dumps(x))\n",
    "        f.write(\"\\n\")\n",
    "\n",
    "with open(\"data/arg_impact/test.jsonl\", \"w\") as f:\n",
    "    for x in tqdm(test):\n",
    "        f.write(json.dumps(x))\n",
    "        f.write(\"\\n\")"
   ]
  },
  {
   "cell_type": "code",
   "execution_count": 894,
   "metadata": {},
   "outputs": [
    {
     "name": "stdout",
     "output_type": "stream",
     "text": [
      "Counter({'IMPACTFUL': 3021, 'NOT IMPACTFUL': 1126, 'MEDIUM IMPACT': 1023})\n",
      "Counter({'IMPACTFUL': 641, 'NOT IMPACTFUL': 252, 'MEDIUM IMPACT': 215})\n",
      "Counter({'IMPACTFUL': 646, 'NOT IMPACTFUL': 255, 'MEDIUM IMPACT': 207})\n"
     ]
    }
   ],
   "source": [
    "print(Counter([x[\"label\"] for x in train]))\n",
    "print(Counter([x[\"label\"] for x in valid]))\n",
    "print(Counter([x[\"label\"] for x in test]))"
   ]
  },
  {
   "cell_type": "code",
   "execution_count": null,
   "metadata": {},
   "outputs": [],
   "source": []
  },
  {
   "cell_type": "code",
   "execution_count": null,
   "metadata": {},
   "outputs": [],
   "source": []
  },
  {
   "cell_type": "code",
   "execution_count": 781,
   "metadata": {},
   "outputs": [
    {
     "name": "stdout",
     "output_type": "stream",
     "text": [
      "[('<pro>', 1953), ('<con>', 1891), ('<null>', 1108)]\n"
     ]
    }
   ],
   "source": [
    "stance_counter = Counter()\n",
    "for x in test:\n",
    "    stance_counter.update(x[\"stance_label\"])\n",
    "print(stance_counter.most_common())"
   ]
  },
  {
   "cell_type": "code",
   "execution_count": 782,
   "metadata": {},
   "outputs": [
    {
     "name": "stdout",
     "output_type": "stream",
     "text": [
      "[('<Null>', 7386), ('<Reason>', 6559), ('<Conjunction>', 6421), ('<Contrast>', 5718), ('<Restatement>', 5343), ('<Result>', 1355), ('<Instantiation>', 99), ('<ChosenAlternative>', 23), ('<Precedence>', 1)]\n"
     ]
    }
   ],
   "source": [
    "disco_counter = Counter()\n",
    "for x in train + valid + test:\n",
    "    disco_counter.update(x[\"discourse_label\"])\n",
    "print(disco_counter.most_common())"
   ]
  },
  {
   "cell_type": "code",
   "execution_count": 783,
   "metadata": {},
   "outputs": [
    {
     "data": {
      "image/png": "[encoded data removed]",
      "text/plain": [
       "<Figure size 720x576 with 1 Axes>"
      ]
     },
     "metadata": {
      "needs_background": "light"
     },
     "output_type": "display_data"
    }
   ],
   "source": [
    "plt.figure(figsize=(10, 8))\n",
    "labels = [\"Conjunction\", \"Contrast\", \"Chosen\\nAlternative\", \"Result\", \"Instantiation\", \"Reason\", \"Restatement\"]\n",
    "bar = plt.bar(np.arange(len(labels)), [disco_counter[\"<%s>\" % (x.replace(\"\\n\", \"\"))] for x in labels], width=0.6, color=colors[8])\n",
    "plt.xticks(list(range(len(labels))), labels, rotation=45, fontsize=24)\n",
    "plt.yticks([10, 100, 1000, 10000], fontsize=24)\n",
    "plt.yscale(\"log\")\n",
    "for rect in bar:\n",
    "    plt.text(rect.get_x() + rect.get_width()/2.0, rect.get_height(), \"%d\" % (int(rect.get_height())), ha=\"center\", va=\"bottom\", fontsize=18)\n",
    "plt.savefig(\"disco_dist.png\", bbox_inches=\"tight\")\n",
    "plt.show()"
   ]
  },
  {
   "cell_type": "code",
   "execution_count": 784,
   "metadata": {},
   "outputs": [
    {
     "name": "stdout",
     "output_type": "stream",
     "text": [
      "[('Conjunction=IMPACTFUL', 1071),\n",
      " ('Restatement=IMPACTFUL', 1068),\n",
      " ('Reason=IMPACTFUL', 1066),\n",
      " ('Contrast=IMPACTFUL', 920),\n",
      " ('Conjunction=MEDIUM IMPACT', 567),\n",
      " ('Reason=NOT IMPACTFUL', 444),\n",
      " ('Restatement=NOT IMPACTFUL', 391),\n",
      " ('Contrast=MEDIUM IMPACT', 384),\n",
      " ('Conjunction=NOT IMPACTFUL', 363),\n",
      " ('Contrast=NOT IMPACTFUL', 350),\n",
      " ('Reason=MEDIUM IMPACT', 204),\n",
      " ('Restatement=MEDIUM IMPACT', 201),\n",
      " ('Result=IMPACTFUL', 140),\n",
      " ('Result=NOT IMPACTFUL', 75),\n",
      " ('Result=MEDIUM IMPACT', 75),\n",
      " ('Instantiation=IMPACTFUL', 37),\n",
      " ('Instantiation=MEDIUM IMPACT', 13),\n",
      " ('ChosenAlternative=IMPACTFUL', 6),\n",
      " ('ChosenAlternative=NOT IMPACTFUL', 5),\n",
      " ('Instantiation=NOT IMPACTFUL', 5),\n",
      " ('Precedence=MEDIUM IMPACT', 1)]\n"
     ]
    },
    {
     "data": {
      "image/png": "[encoded data removed]",
      "text/plain": [
       "<Figure size 432x576 with 1 Axes>"
      ]
     },
     "metadata": {
      "needs_background": "light"
     },
     "output_type": "display_data"
    }
   ],
   "source": [
    "pattern_len = 1\n",
    "disco_co_occur = Counter()\n",
    "for x in train + valid + test:\n",
    "    for i in range(len(x[\"discourse_label\"])-1, max(-1, len(x[\"discourse_label\"])-1-pattern_len), -1):\n",
    "        d = \"-\".join(x[\"discourse_label\"][i:]).replace(\"<\", \"\").replace(\">\", \"\")\n",
    "        l = x[\"label\"].replace(\"<\", \"\").replace(\">\", \"\")\n",
    "        disco_co_occur[\"%s=%s\" % (d, l)] += 1\n",
    "        \n",
    "pprint(disco_co_occur.most_common(300))\n",
    "\n",
    "plt.figure(figsize=(6, 8))\n",
    "sorted_disco_co_occur = [x for x in disco_co_occur.most_common() if x[1] >= 5]\n",
    "# sorted_disco_co_occur = disco_co_occur.most_common()\n",
    "plt.plot(np.arange(len(sorted_disco_co_occur)), [x[1] for x in sorted_disco_co_occur])\n",
    "# plt.xticks([x[0] for x in sorted_disco_co_occur])\n",
    "plt.show()\n",
    "\n",
    "discos = list(set([x[0].split(\"=\", 1)[0] for x in sorted_disco_co_occur]))\n",
    "\n",
    "df = pd.DataFrame(np.zeros((len(impact_labels), len(discos))), columns=discos)\n",
    "df.index = impact_labels\n",
    "\n",
    "for k, v in sorted_disco_co_occur:\n",
    "    i, j = k.split(\"=\", 1)\n",
    "    df[i][j] = float(v)\n",
    "    "
   ]
  },
  {
   "cell_type": "code",
   "execution_count": 785,
   "metadata": {},
   "outputs": [
    {
     "name": "stdout",
     "output_type": "stream",
     "text": [
      "(3, 7)\n"
     ]
    },
    {
     "data": {
      "text/html": [
       "<div>\n",
       "<style scoped>\n",
       "    .dataframe tbody tr th:only-of-type {\n",
       "        vertical-align: middle;\n",
       "    }\n",
       "\n",
       "    .dataframe tbody tr th {\n",
       "        vertical-align: top;\n",
       "    }\n",
       "\n",
       "    .dataframe thead th {\n",
       "        text-align: right;\n",
       "    }\n",
       "</style>\n",
       "<table border=\"1\" class=\"dataframe\">\n",
       "  <thead>\n",
       "    <tr style=\"text-align: right;\">\n",
       "      <th></th>\n",
       "      <th>Conjunction</th>\n",
       "      <th>Contrast</th>\n",
       "      <th>ChosenAlternative</th>\n",
       "      <th>Result</th>\n",
       "      <th>Instantiation</th>\n",
       "      <th>Reason</th>\n",
       "      <th>Restatement</th>\n",
       "    </tr>\n",
       "  </thead>\n",
       "  <tbody>\n",
       "    <tr>\n",
       "      <th>IMPACTFUL</th>\n",
       "      <td>1071.0</td>\n",
       "      <td>920.0</td>\n",
       "      <td>6.0</td>\n",
       "      <td>140.0</td>\n",
       "      <td>37.0</td>\n",
       "      <td>1066.0</td>\n",
       "      <td>1068.0</td>\n",
       "    </tr>\n",
       "    <tr>\n",
       "      <th>MEDIUM IMPACT</th>\n",
       "      <td>567.0</td>\n",
       "      <td>384.0</td>\n",
       "      <td>0.0</td>\n",
       "      <td>75.0</td>\n",
       "      <td>13.0</td>\n",
       "      <td>204.0</td>\n",
       "      <td>201.0</td>\n",
       "    </tr>\n",
       "    <tr>\n",
       "      <th>NOT IMPACTFUL</th>\n",
       "      <td>363.0</td>\n",
       "      <td>350.0</td>\n",
       "      <td>5.0</td>\n",
       "      <td>75.0</td>\n",
       "      <td>5.0</td>\n",
       "      <td>444.0</td>\n",
       "      <td>391.0</td>\n",
       "    </tr>\n",
       "  </tbody>\n",
       "</table>\n",
       "</div>"
      ],
      "text/plain": [
       "               Conjunction  Contrast  ChosenAlternative  Result  \\\n",
       "IMPACTFUL           1071.0     920.0                6.0   140.0   \n",
       "MEDIUM IMPACT        567.0     384.0                0.0    75.0   \n",
       "NOT IMPACTFUL        363.0     350.0                5.0    75.0   \n",
       "\n",
       "               Instantiation  Reason  Restatement  \n",
       "IMPACTFUL               37.0  1066.0       1068.0  \n",
       "MEDIUM IMPACT           13.0   204.0        201.0  \n",
       "NOT IMPACTFUL            5.0   444.0        391.0  "
      ]
     },
     "execution_count": 785,
     "metadata": {},
     "output_type": "execute_result"
    }
   ],
   "source": [
    "print(df.shape)\n",
    "df"
   ]
  },
  {
   "cell_type": "code",
   "execution_count": 786,
   "metadata": {},
   "outputs": [
    {
     "data": {
      "text/plain": [
       "IMPACTFUL        4308.0\n",
       "MEDIUM IMPACT    1444.0\n",
       "NOT IMPACTFUL    1633.0\n",
       "dtype: float64"
      ]
     },
     "execution_count": 786,
     "metadata": {},
     "output_type": "execute_result"
    }
   ],
   "source": [
    "df.sum(axis=1)"
   ]
  },
  {
   "cell_type": "code",
   "execution_count": 739,
   "metadata": {},
   "outputs": [],
   "source": [
    "# disco_corr = df.div(df.sum(axis=1), axis=0)\n",
    "# disco_corr = disco_corr.div(disco_corr.sum(axis=0), axis=1)\n",
    "disco_corr = df.div(df.sum(axis=0), axis=1)"
   ]
  },
  {
   "cell_type": "code",
   "execution_count": 740,
   "metadata": {},
   "outputs": [
    {
     "data": {
      "text/html": [
       "<div>\n",
       "<style scoped>\n",
       "    .dataframe tbody tr th:only-of-type {\n",
       "        vertical-align: middle;\n",
       "    }\n",
       "\n",
       "    .dataframe tbody tr th {\n",
       "        vertical-align: top;\n",
       "    }\n",
       "\n",
       "    .dataframe thead th {\n",
       "        text-align: right;\n",
       "    }\n",
       "</style>\n",
       "<table border=\"1\" class=\"dataframe\">\n",
       "  <thead>\n",
       "    <tr style=\"text-align: right;\">\n",
       "      <th></th>\n",
       "      <th>Conjunction</th>\n",
       "      <th>Contrast</th>\n",
       "      <th>ChosenAlternative</th>\n",
       "      <th>Result</th>\n",
       "      <th>Instantiation</th>\n",
       "      <th>Reason</th>\n",
       "      <th>Restatement</th>\n",
       "    </tr>\n",
       "  </thead>\n",
       "  <tbody>\n",
       "    <tr>\n",
       "      <th>IMPACTFUL</th>\n",
       "      <td>0.535232</td>\n",
       "      <td>0.556227</td>\n",
       "      <td>0.545455</td>\n",
       "      <td>0.482759</td>\n",
       "      <td>0.672727</td>\n",
       "      <td>0.621937</td>\n",
       "      <td>0.643373</td>\n",
       "    </tr>\n",
       "    <tr>\n",
       "      <th>MEDIUM IMPACT</th>\n",
       "      <td>0.283358</td>\n",
       "      <td>0.232164</td>\n",
       "      <td>0.000000</td>\n",
       "      <td>0.258621</td>\n",
       "      <td>0.236364</td>\n",
       "      <td>0.119020</td>\n",
       "      <td>0.121084</td>\n",
       "    </tr>\n",
       "    <tr>\n",
       "      <th>NOT IMPACTFUL</th>\n",
       "      <td>0.181409</td>\n",
       "      <td>0.211608</td>\n",
       "      <td>0.454545</td>\n",
       "      <td>0.258621</td>\n",
       "      <td>0.090909</td>\n",
       "      <td>0.259043</td>\n",
       "      <td>0.235542</td>\n",
       "    </tr>\n",
       "  </tbody>\n",
       "</table>\n",
       "</div>"
      ],
      "text/plain": [
       "               Conjunction  Contrast  ChosenAlternative    Result  \\\n",
       "IMPACTFUL         0.535232  0.556227           0.545455  0.482759   \n",
       "MEDIUM IMPACT     0.283358  0.232164           0.000000  0.258621   \n",
       "NOT IMPACTFUL     0.181409  0.211608           0.454545  0.258621   \n",
       "\n",
       "               Instantiation    Reason  Restatement  \n",
       "IMPACTFUL           0.672727  0.621937     0.643373  \n",
       "MEDIUM IMPACT       0.236364  0.119020     0.121084  \n",
       "NOT IMPACTFUL       0.090909  0.259043     0.235542  "
      ]
     },
     "execution_count": 740,
     "metadata": {},
     "output_type": "execute_result"
    }
   ],
   "source": [
    "disco_corr"
   ]
  },
  {
   "cell_type": "code",
   "execution_count": 746,
   "metadata": {},
   "outputs": [
    {
     "data": {
      "image/png": "[encoded data removed]",
      "text/plain": [
       "<Figure size 1440x576 with 2 Axes>"
      ]
     },
     "metadata": {
      "needs_background": "light"
     },
     "output_type": "display_data"
    }
   ],
   "source": [
    "plt.figure(figsize=(20, 8))\n",
    "plt.matshow(disco_corr, fignum=0)\n",
    "columns = [x.replace(\"ChosenAlternative\", \"Chosen\\nAlternative\") for x in df.columns]\n",
    "plt.xticks(range(len(df.columns)), columns, rotation=-45, fontsize=36)\n",
    "plt.yticks(range(len(df.index)), [\"Impactful\", \"Medium Impact\", \"Not Impactful\"], fontsize=36)\n",
    "plt.clim(0.0, 0.8)\n",
    "cbar = plt.colorbar()\n",
    "for l in cbar.ax.get_yticklabels():\n",
    "    l.set_fontsize(36)\n",
    "plt.savefig(\"disco_corr.png\", bbox_inches=\"tight\")\n",
    "plt.show()"
   ]
  },
  {
   "cell_type": "code",
   "execution_count": null,
   "metadata": {},
   "outputs": [],
   "source": []
  },
  {
   "cell_type": "code",
   "execution_count": 749,
   "metadata": {},
   "outputs": [
    {
     "name": "stdout",
     "output_type": "stream",
     "text": [
      "[('pro=IMPACTFUL', 2246),\n",
      " ('con=IMPACTFUL', 2062),\n",
      " ('con=NOT IMPACTFUL', 887),\n",
      " ('pro=NOT IMPACTFUL', 746),\n",
      " ('con=MEDIUM IMPACT', 740),\n",
      " ('pro=MEDIUM IMPACT', 705)]\n"
     ]
    },
    {
     "data": {
      "image/png": "[encoded data removed]",
      "text/plain": [
       "<Figure size 432x576 with 1 Axes>"
      ]
     },
     "metadata": {
      "needs_background": "light"
     },
     "output_type": "display_data"
    }
   ],
   "source": [
    "pattern_len = 1\n",
    "stance_co_occur = Counter()\n",
    "for x in train + valid + test:\n",
    "    for i in range(len(x[\"stance_label\"])-1, max(-1, len(x[\"stance_label\"])-1-pattern_len), -1):\n",
    "        s = \"-\".join(x[\"stance_label\"][i:]).replace(\"<\", \"\").replace(\">\", \"\")\n",
    "        l = x[\"label\"].replace(\"<\", \"\").replace(\">\", \"\")\n",
    "        stance_co_occur[\"%s=%s\" % (s, l)] += 1\n",
    "        \n",
    "pprint(stance_co_occur.most_common(300))\n",
    "\n",
    "plt.figure(figsize=(6, 8))\n",
    "sorted_stance_co_occur = [x for x in stance_co_occur.most_common() if x[1] >= 5]\n",
    "# sorted_stance_co_occur = stance_co_occur.most_common()\n",
    "plt.plot(np.arange(len(sorted_stance_co_occur)), [x[1] for x in sorted_stance_co_occur])\n",
    "# plt.xticks([x[0] for x in sorted_stance_co_occur])\n",
    "plt.show()\n",
    "\n",
    "stances = list(set([x[0].split(\"=\", 1)[0] for x in sorted_stance_co_occur]))\n",
    "\n",
    "df = pd.DataFrame(np.zeros((len(impact_labels), len(stances))), columns=stances)\n",
    "df.index = impact_labels\n",
    "\n",
    "for k, v in sorted_stance_co_occur:\n",
    "    i, j = k.rsplit(\"=\", 1)\n",
    "    df[i][j] = float(v)\n",
    "    "
   ]
  },
  {
   "cell_type": "code",
   "execution_count": 750,
   "metadata": {},
   "outputs": [
    {
     "name": "stdout",
     "output_type": "stream",
     "text": [
      "(3, 2)\n"
     ]
    },
    {
     "data": {
      "text/html": [
       "<div>\n",
       "<style scoped>\n",
       "    .dataframe tbody tr th:only-of-type {\n",
       "        vertical-align: middle;\n",
       "    }\n",
       "\n",
       "    .dataframe tbody tr th {\n",
       "        vertical-align: top;\n",
       "    }\n",
       "\n",
       "    .dataframe thead th {\n",
       "        text-align: right;\n",
       "    }\n",
       "</style>\n",
       "<table border=\"1\" class=\"dataframe\">\n",
       "  <thead>\n",
       "    <tr style=\"text-align: right;\">\n",
       "      <th></th>\n",
       "      <th>pro</th>\n",
       "      <th>con</th>\n",
       "    </tr>\n",
       "  </thead>\n",
       "  <tbody>\n",
       "    <tr>\n",
       "      <th>IMPACTFUL</th>\n",
       "      <td>2246.0</td>\n",
       "      <td>2062.0</td>\n",
       "    </tr>\n",
       "    <tr>\n",
       "      <th>MEDIUM IMPACT</th>\n",
       "      <td>705.0</td>\n",
       "      <td>740.0</td>\n",
       "    </tr>\n",
       "    <tr>\n",
       "      <th>NOT IMPACTFUL</th>\n",
       "      <td>746.0</td>\n",
       "      <td>887.0</td>\n",
       "    </tr>\n",
       "  </tbody>\n",
       "</table>\n",
       "</div>"
      ],
      "text/plain": [
       "                  pro     con\n",
       "IMPACTFUL      2246.0  2062.0\n",
       "MEDIUM IMPACT   705.0   740.0\n",
       "NOT IMPACTFUL   746.0   887.0"
      ]
     },
     "execution_count": 750,
     "metadata": {},
     "output_type": "execute_result"
    }
   ],
   "source": [
    "print(df.shape)\n",
    "df"
   ]
  },
  {
   "cell_type": "code",
   "execution_count": 751,
   "metadata": {},
   "outputs": [
    {
     "data": {
      "text/plain": [
       "IMPACTFUL        4308.0\n",
       "MEDIUM IMPACT    1445.0\n",
       "NOT IMPACTFUL    1633.0\n",
       "dtype: float64"
      ]
     },
     "execution_count": 751,
     "metadata": {},
     "output_type": "execute_result"
    }
   ],
   "source": [
    "df.sum(axis=1)"
   ]
  },
  {
   "cell_type": "code",
   "execution_count": 752,
   "metadata": {},
   "outputs": [],
   "source": [
    "# stance_corr = df.div(df.sum(axis=1), axis=0)\n",
    "# stance_corr = stance_corr.div(stance_corr.sum(axis=0), axis=1)\n",
    "stance_corr = df.div(df.sum(axis=0), axis=1)"
   ]
  },
  {
   "cell_type": "code",
   "execution_count": 645,
   "metadata": {},
   "outputs": [
    {
     "data": {
      "text/html": [
       "<div>\n",
       "<style scoped>\n",
       "    .dataframe tbody tr th:only-of-type {\n",
       "        vertical-align: middle;\n",
       "    }\n",
       "\n",
       "    .dataframe tbody tr th {\n",
       "        vertical-align: top;\n",
       "    }\n",
       "\n",
       "    .dataframe thead th {\n",
       "        text-align: right;\n",
       "    }\n",
       "</style>\n",
       "<table border=\"1\" class=\"dataframe\">\n",
       "  <thead>\n",
       "    <tr style=\"text-align: right;\">\n",
       "      <th></th>\n",
       "      <th>pro</th>\n",
       "      <th>con</th>\n",
       "    </tr>\n",
       "  </thead>\n",
       "  <tbody>\n",
       "    <tr>\n",
       "      <th>IMPACTFUL</th>\n",
       "      <td>0.607520</td>\n",
       "      <td>0.558959</td>\n",
       "    </tr>\n",
       "    <tr>\n",
       "      <th>MEDIUM IMPACT</th>\n",
       "      <td>0.190695</td>\n",
       "      <td>0.200596</td>\n",
       "    </tr>\n",
       "    <tr>\n",
       "      <th>NOT IMPACTFUL</th>\n",
       "      <td>0.201785</td>\n",
       "      <td>0.240445</td>\n",
       "    </tr>\n",
       "  </tbody>\n",
       "</table>\n",
       "</div>"
      ],
      "text/plain": [
       "                    pro       con\n",
       "IMPACTFUL      0.607520  0.558959\n",
       "MEDIUM IMPACT  0.190695  0.200596\n",
       "NOT IMPACTFUL  0.201785  0.240445"
      ]
     },
     "execution_count": 645,
     "metadata": {},
     "output_type": "execute_result"
    }
   ],
   "source": [
    "stance_corr"
   ]
  },
  {
   "cell_type": "code",
   "execution_count": 754,
   "metadata": {},
   "outputs": [
    {
     "data": {
      "image/png": "[encoded data removed]",
      "text/plain": [
       "<Figure size 1440x576 with 2 Axes>"
      ]
     },
     "metadata": {
      "needs_background": "light"
     },
     "output_type": "display_data"
    }
   ],
   "source": [
    "plt.figure(figsize=(20, 8))\n",
    "plt.matshow(stance_corr, fignum=0)\n",
    "plt.xticks(range(len(df.columns)), [\"Pro\", \"Con\"], rotation=-45, fontsize=36)\n",
    "plt.yticks(range(len(df.index)), [\"Impactful\", \"Medium Impact\", \"Not Impactful\"], fontsize=36)\n",
    "plt.clim(0.0, 0.8)\n",
    "cbar = plt.colorbar()\n",
    "for l in cbar.ax.get_yticklabels():\n",
    "    l.set_fontsize(36)\n",
    "plt.savefig(\"stance_corr.png\", bbox_inches=\"tight\")\n",
    "plt.show()"
   ]
  },
  {
   "cell_type": "code",
   "execution_count": 765,
   "metadata": {},
   "outputs": [
    {
     "name": "stdout",
     "output_type": "stream",
     "text": [
      "[('Contrast=con', 1120),\n",
      " ('Conjunction=pro', 1056),\n",
      " ('Restatement=pro', 976),\n",
      " ('Reason=pro', 948),\n",
      " ('Conjunction=con', 945),\n",
      " ('Reason=con', 766),\n",
      " ('Restatement=con', 684),\n",
      " ('Contrast=pro', 534),\n",
      " ('Result=con', 157),\n",
      " ('Result=pro', 133),\n",
      " ('Instantiation=pro', 45),\n",
      " ('Instantiation=con', 10),\n",
      " ('ChosenAlternative=con', 7),\n",
      " ('ChosenAlternative=pro', 4),\n",
      " ('Precedence=pro', 1)]\n"
     ]
    },
    {
     "data": {
      "image/png": "[encoded data removed]",
      "text/plain": [
       "<Figure size 432x576 with 1 Axes>"
      ]
     },
     "metadata": {
      "needs_background": "light"
     },
     "output_type": "display_data"
    }
   ],
   "source": [
    "pattern_len = 1\n",
    "disco_stance_co_occur = Counter()\n",
    "for x in train + valid + test:\n",
    "    for i in range(len(x[\"discourse_label\"])-1, max(-1, len(x[\"discourse_label\"])-1-pattern_len), -1):\n",
    "        d = \"-\".join(x[\"discourse_label\"][i:]).replace(\"<\", \"\").replace(\">\", \"\")\n",
    "        s = \"-\".join(x[\"stance_label\"][i:]).replace(\"<\", \"\").replace(\">\", \"\")\n",
    "        disco_stance_co_occur[\"%s=%s\" % (d, s)] += 1\n",
    "        \n",
    "pprint(disco_stance_co_occur.most_common(300))\n",
    "\n",
    "plt.figure(figsize=(6, 8))\n",
    "sorted_disco_stance_co_occur = [x for x in disco_stance_co_occur.most_common() if x[1] >= 5]\n",
    "# sorted_disco_stance_co_occur = disco_stance_co_occur.most_common()\n",
    "plt.plot(np.arange(len(sorted_disco_stance_co_occur)), [x[1] for x in sorted_disco_stance_co_occur])\n",
    "# plt.xticks([x[0] for x in sorted_disco_stance_co_occur])\n",
    "plt.show()\n",
    "\n",
    "discos = list(set([x[0].rsplit(\"=\", 1)[0] for x in sorted_disco_stance_co_occur]))\n",
    "stances = list(set([x[0].rsplit(\"=\", 1)[1] for x in sorted_disco_stance_co_occur]))\n",
    "\n",
    "df = pd.DataFrame(np.zeros((len(stances), len(discos))), columns=discos)\n",
    "df.index = list(stances)\n",
    "\n",
    "for k, v in sorted_disco_stance_co_occur:\n",
    "    i, j = k.rsplit(\"=\", 1)\n",
    "    df[i][j] = float(v)\n",
    "    "
   ]
  },
  {
   "cell_type": "code",
   "execution_count": 766,
   "metadata": {},
   "outputs": [
    {
     "name": "stdout",
     "output_type": "stream",
     "text": [
      "(2, 7)\n"
     ]
    },
    {
     "data": {
      "text/html": [
       "<div>\n",
       "<style scoped>\n",
       "    .dataframe tbody tr th:only-of-type {\n",
       "        vertical-align: middle;\n",
       "    }\n",
       "\n",
       "    .dataframe tbody tr th {\n",
       "        vertical-align: top;\n",
       "    }\n",
       "\n",
       "    .dataframe thead th {\n",
       "        text-align: right;\n",
       "    }\n",
       "</style>\n",
       "<table border=\"1\" class=\"dataframe\">\n",
       "  <thead>\n",
       "    <tr style=\"text-align: right;\">\n",
       "      <th></th>\n",
       "      <th>Conjunction</th>\n",
       "      <th>Contrast</th>\n",
       "      <th>ChosenAlternative</th>\n",
       "      <th>Result</th>\n",
       "      <th>Instantiation</th>\n",
       "      <th>Reason</th>\n",
       "      <th>Restatement</th>\n",
       "    </tr>\n",
       "  </thead>\n",
       "  <tbody>\n",
       "    <tr>\n",
       "      <th>pro</th>\n",
       "      <td>1056.0</td>\n",
       "      <td>534.0</td>\n",
       "      <td>0.0</td>\n",
       "      <td>133.0</td>\n",
       "      <td>45.0</td>\n",
       "      <td>948.0</td>\n",
       "      <td>976.0</td>\n",
       "    </tr>\n",
       "    <tr>\n",
       "      <th>con</th>\n",
       "      <td>945.0</td>\n",
       "      <td>1120.0</td>\n",
       "      <td>7.0</td>\n",
       "      <td>157.0</td>\n",
       "      <td>10.0</td>\n",
       "      <td>766.0</td>\n",
       "      <td>684.0</td>\n",
       "    </tr>\n",
       "  </tbody>\n",
       "</table>\n",
       "</div>"
      ],
      "text/plain": [
       "     Conjunction  Contrast  ChosenAlternative  Result  Instantiation  Reason  \\\n",
       "pro       1056.0     534.0                0.0   133.0           45.0   948.0   \n",
       "con        945.0    1120.0                7.0   157.0           10.0   766.0   \n",
       "\n",
       "     Restatement  \n",
       "pro        976.0  \n",
       "con        684.0  "
      ]
     },
     "execution_count": 766,
     "metadata": {},
     "output_type": "execute_result"
    }
   ],
   "source": [
    "print(df.shape)\n",
    "df"
   ]
  },
  {
   "cell_type": "code",
   "execution_count": 767,
   "metadata": {},
   "outputs": [],
   "source": [
    "# stance_corr = df.div(df.sum(axis=1), axis=0)\n",
    "# stance_corr = stance_corr.div(stance_corr.sum(axis=0), axis=1)\n",
    "disco_stance_corr = df.div(df.sum(axis=0), axis=1)"
   ]
  },
  {
   "cell_type": "code",
   "execution_count": 768,
   "metadata": {},
   "outputs": [
    {
     "data": {
      "text/html": [
       "<div>\n",
       "<style scoped>\n",
       "    .dataframe tbody tr th:only-of-type {\n",
       "        vertical-align: middle;\n",
       "    }\n",
       "\n",
       "    .dataframe tbody tr th {\n",
       "        vertical-align: top;\n",
       "    }\n",
       "\n",
       "    .dataframe thead th {\n",
       "        text-align: right;\n",
       "    }\n",
       "</style>\n",
       "<table border=\"1\" class=\"dataframe\">\n",
       "  <thead>\n",
       "    <tr style=\"text-align: right;\">\n",
       "      <th></th>\n",
       "      <th>Conjunction</th>\n",
       "      <th>Contrast</th>\n",
       "      <th>ChosenAlternative</th>\n",
       "      <th>Result</th>\n",
       "      <th>Instantiation</th>\n",
       "      <th>Reason</th>\n",
       "      <th>Restatement</th>\n",
       "    </tr>\n",
       "  </thead>\n",
       "  <tbody>\n",
       "    <tr>\n",
       "      <th>pro</th>\n",
       "      <td>0.527736</td>\n",
       "      <td>0.322854</td>\n",
       "      <td>0.0</td>\n",
       "      <td>0.458621</td>\n",
       "      <td>0.818182</td>\n",
       "      <td>0.553092</td>\n",
       "      <td>0.587952</td>\n",
       "    </tr>\n",
       "    <tr>\n",
       "      <th>con</th>\n",
       "      <td>0.472264</td>\n",
       "      <td>0.677146</td>\n",
       "      <td>1.0</td>\n",
       "      <td>0.541379</td>\n",
       "      <td>0.181818</td>\n",
       "      <td>0.446908</td>\n",
       "      <td>0.412048</td>\n",
       "    </tr>\n",
       "  </tbody>\n",
       "</table>\n",
       "</div>"
      ],
      "text/plain": [
       "     Conjunction  Contrast  ChosenAlternative    Result  Instantiation  \\\n",
       "pro     0.527736  0.322854                0.0  0.458621       0.818182   \n",
       "con     0.472264  0.677146                1.0  0.541379       0.181818   \n",
       "\n",
       "       Reason  Restatement  \n",
       "pro  0.553092     0.587952  \n",
       "con  0.446908     0.412048  "
      ]
     },
     "execution_count": 768,
     "metadata": {},
     "output_type": "execute_result"
    }
   ],
   "source": [
    "disco_stance_corr"
   ]
  },
  {
   "cell_type": "code",
   "execution_count": 769,
   "metadata": {},
   "outputs": [
    {
     "data": {
      "image/png": "[encoded data removed]",
      "text/plain": [
       "<Figure size 1440x576 with 2 Axes>"
      ]
     },
     "metadata": {
      "needs_background": "light"
     },
     "output_type": "display_data"
    }
   ],
   "source": [
    "plt.figure(figsize=(20, 8))\n",
    "plt.matshow(disco_stance_corr, fignum=0)\n",
    "plt.xticks(range(len(df.columns)), columns, rotation=-45, fontsize=36)\n",
    "plt.yticks(range(len(df.index)), [\"Pro\", \"Con\"], fontsize=36)\n",
    "\n",
    "plt.clim(0.0, 0.8)\n",
    "cbar = plt.colorbar()\n",
    "for l in cbar.ax.get_yticklabels():\n",
    "    l.set_fontsize(36)\n",
    "# plt.savefig(\"disco_stance_corr.png\", bbox_inches=\"tight\")\n",
    "plt.show()"
   ]
  },
  {
   "cell_type": "code",
   "execution_count": null,
   "metadata": {},
   "outputs": [],
   "source": []
  },
  {
   "cell_type": "code",
   "execution_count": 770,
   "metadata": {},
   "outputs": [],
   "source": [
    "df = pd.DataFrame(np.zeros((3, 1)), columns=[\"Impact Label\\nDistribution\"])\n",
    "df.index = impact_labels\n",
    "\n",
    "for x in train + valid + test:\n",
    "    df[\"Impact Label\\nDistribution\"][x[\"label\"]] += 1\n",
    "    "
   ]
  },
  {
   "cell_type": "code",
   "execution_count": 771,
   "metadata": {},
   "outputs": [
    {
     "data": {
      "text/html": [
       "<div>\n",
       "<style scoped>\n",
       "    .dataframe tbody tr th:only-of-type {\n",
       "        vertical-align: middle;\n",
       "    }\n",
       "\n",
       "    .dataframe tbody tr th {\n",
       "        vertical-align: top;\n",
       "    }\n",
       "\n",
       "    .dataframe thead th {\n",
       "        text-align: right;\n",
       "    }\n",
       "</style>\n",
       "<table border=\"1\" class=\"dataframe\">\n",
       "  <thead>\n",
       "    <tr style=\"text-align: right;\">\n",
       "      <th></th>\n",
       "      <th>Impact Label\\nDistribution</th>\n",
       "    </tr>\n",
       "  </thead>\n",
       "  <tbody>\n",
       "    <tr>\n",
       "      <th>IMPACTFUL</th>\n",
       "      <td>4308.0</td>\n",
       "    </tr>\n",
       "    <tr>\n",
       "      <th>MEDIUM IMPACT</th>\n",
       "      <td>1445.0</td>\n",
       "    </tr>\n",
       "    <tr>\n",
       "      <th>NOT IMPACTFUL</th>\n",
       "      <td>1633.0</td>\n",
       "    </tr>\n",
       "  </tbody>\n",
       "</table>\n",
       "</div>"
      ],
      "text/plain": [
       "               Impact Label\\nDistribution\n",
       "IMPACTFUL                          4308.0\n",
       "MEDIUM IMPACT                      1445.0\n",
       "NOT IMPACTFUL                      1633.0"
      ]
     },
     "execution_count": 771,
     "metadata": {},
     "output_type": "execute_result"
    }
   ],
   "source": [
    "df"
   ]
  },
  {
   "cell_type": "code",
   "execution_count": 778,
   "metadata": {},
   "outputs": [
    {
     "data": {
      "image/png": "[encoded data removed]",
      "text/plain": [
       "<Figure size 1440x576 with 2 Axes>"
      ]
     },
     "metadata": {
      "needs_background": "light"
     },
     "output_type": "display_data"
    }
   ],
   "source": [
    "plt.figure(figsize=(20, 8))\n",
    "plt.matshow(df.div(df.sum(axis=0), axis=1), fignum=0)\n",
    "plt.xticks(range(len(df.columns)), df.columns, rotation=-45, fontsize=36)\n",
    "plt.yticks(range(len(df.index)), [\"Impactful\", \"Medium\\n Impact \", \"Not     \\nImpactful\"], fontsize=36)\n",
    "\n",
    "plt.clim(0.0, 0.8)\n",
    "cbar = plt.colorbar()\n",
    "for l in cbar.ax.get_yticklabels():\n",
    "    l.set_fontsize(36)\n",
    "plt.savefig(\"label_dist.png\", bbox_inches=\"tight\")\n",
    "plt.show()"
   ]
  },
  {
   "cell_type": "code",
   "execution_count": 687,
   "metadata": {},
   "outputs": [],
   "source": [
    "sents = set()"
   ]
  },
  {
   "cell_type": "code",
   "execution_count": 688,
   "metadata": {},
   "outputs": [],
   "source": [
    "train_sents = set()\n",
    "for x in train:\n",
    "    train_sents.update(x[\"text\"])\n",
    "    train_sents.update(x[\"context\"])\n",
    "        \n",
    "valid_sents = set()\n",
    "for x in valid:\n",
    "    valid_sents.update(x[\"text\"])\n",
    "    valid_sents.update(x[\"context\"])\n",
    "        \n",
    "test_sents = set()\n",
    "for x in test:\n",
    "    test_sents.update(x[\"text\"])\n",
    "    test_sents.update(x[\"context\"])"
   ]
  },
  {
   "cell_type": "code",
   "execution_count": 689,
   "metadata": {},
   "outputs": [
    {
     "name": "stdout",
     "output_type": "stream",
     "text": [
      "7674 2701 2735 13110 9588\n"
     ]
    }
   ],
   "source": [
    "print(len(train_sents), len(valid_sents), len(test_sents),\n",
    "    sum([len(train_sents), len(valid_sents), len(test_sents)]),\n",
    "    len(train_sents | valid_sents | test_sents))"
   ]
  },
  {
   "cell_type": "code",
   "execution_count": 690,
   "metadata": {},
   "outputs": [
    {
     "data": {
      "text/plain": [
       "23023"
      ]
     },
     "execution_count": 690,
     "metadata": {},
     "output_type": "execute_result"
    }
   ],
   "source": [
    "sum([len(x[\"context\"]) + 1 for x in train])"
   ]
  },
  {
   "cell_type": "code",
   "execution_count": 691,
   "metadata": {},
   "outputs": [
    {
     "data": {
      "text/plain": [
       "4930"
      ]
     },
     "execution_count": 691,
     "metadata": {},
     "output_type": "execute_result"
    }
   ],
   "source": [
    "sum([len(x[\"context\"]) + 1 for x in valid])"
   ]
  },
  {
   "cell_type": "code",
   "execution_count": 692,
   "metadata": {},
   "outputs": [
    {
     "data": {
      "text/plain": [
       "4952"
      ]
     },
     "execution_count": 692,
     "metadata": {},
     "output_type": "execute_result"
    }
   ],
   "source": [
    "sum([len(x[\"context\"]) + 1 for x in test])"
   ]
  },
  {
   "cell_type": "code",
   "execution_count": 67,
   "metadata": {},
   "outputs": [
    {
     "data": {
      "text/plain": [
       "Counter({'$none$': 7386, '$con$': 12443, '$pro$': 13047, '$unk$': 29})"
      ]
     },
     "execution_count": 67,
     "metadata": {},
     "output_type": "execute_result"
    }
   ],
   "source": [
    "from itertools import chain\n",
    "from collections import Counter\n",
    "Counter(chain.from_iterable([x[\"stance_label\"] for x in train + valid + test]))"
   ]
  },
  {
   "cell_type": "code",
   "execution_count": 68,
   "metadata": {},
   "outputs": [],
   "source": [
    "train_thesises = set()\n",
    "for x in train:\n",
    "    train_thesises.add(x[\"context\"][0])\n",
    "        \n",
    "valid_thesises = set()\n",
    "for x in valid:\n",
    "    valid_thesises.add(x[\"context\"][0])\n",
    "        \n",
    "test_thesises = set()\n",
    "for x in test:\n",
    "    test_thesises.add(x[\"context\"][0])"
   ]
  },
  {
   "cell_type": "code",
   "execution_count": 71,
   "metadata": {},
   "outputs": [
    {
     "name": "stdout",
     "output_type": "stream",
     "text": [
      "train Counter({'$pro$': 9148, '$con$': 8683, '$none$': 5170, '$unk$': 22})\n",
      "valid Counter({'$pro$': 1948, '$con$': 1871, '$none$': 1108, '$unk$': 3})\n",
      "test Counter({'$pro$': 1951, '$con$': 1889, '$none$': 1108, '$unk$': 4})\n"
     ]
    }
   ],
   "source": [
    "from itertools import chain\n",
    "from collections import Counter\n",
    "print(\"train\", Counter(chain.from_iterable([x[\"stance_label\"] for x in train])))\n",
    "print(\"valid\", Counter(chain.from_iterable([x[\"stance_label\"] for x in valid])))\n",
    "print(\"test\", Counter(chain.from_iterable([x[\"stance_label\"] for x in test])))"
   ]
  },
  {
   "cell_type": "code",
   "execution_count": 255,
   "metadata": {},
   "outputs": [],
   "source": [
    "from itertools import chain\n",
    "\n",
    "arr = np.array(list(chain.from_iterable([[len(t) for t in x[\"text\"]] + [len(ct) for ct in x[\"context\"]] for x in train + valid + test])))"
   ]
  },
  {
   "cell_type": "code",
   "execution_count": 257,
   "metadata": {},
   "outputs": [
    {
     "data": {
      "text/plain": [
       "117.3720711138125"
      ]
     },
     "execution_count": 257,
     "metadata": {},
     "output_type": "execute_result"
    }
   ],
   "source": [
    "arr.mean()"
   ]
  },
  {
   "cell_type": "code",
   "execution_count": 258,
   "metadata": {},
   "outputs": [
    {
     "data": {
      "text/plain": [
       "500"
      ]
     },
     "execution_count": 258,
     "metadata": {},
     "output_type": "execute_result"
    }
   ],
   "source": [
    "arr.max()"
   ]
  },
  {
   "cell_type": "code",
   "execution_count": 700,
   "metadata": {},
   "outputs": [
    {
     "data": {
      "text/plain": [
       "[(2, 1977), (1, 1524), (6, 1268), (3, 1181), (4, 831), (5, 605)]"
      ]
     },
     "execution_count": 700,
     "metadata": {},
     "output_type": "execute_result"
    }
   ],
   "source": [
    "\n",
    "Counter([(len(x[\"context\"]) if len(x[\"context\"]) <=5 else 6) for x in train + valid + test]).most_common()"
   ]
  },
  {
   "cell_type": "code",
   "execution_count": 701,
   "metadata": {},
   "outputs": [
    {
     "data": {
      "text/plain": [
       "0.08191172488491741"
      ]
     },
     "execution_count": 701,
     "metadata": {},
     "output_type": "execute_result"
    }
   ],
   "source": [
    "(605) / 7386"
   ]
  },
  {
   "cell_type": "code",
   "execution_count": null,
   "metadata": {},
   "outputs": [],
   "source": []
  },
  {
   "cell_type": "code",
   "execution_count": 903,
   "metadata": {},
   "outputs": [
    {
     "name": "stdout",
     "output_type": "stream",
     "text": [
      "['<Restatement>', '<Reason>'] 142\n"
     ]
    }
   ],
   "source": [
    "pattern = [\"<Restatement>\", \"<Reason>\"]\n",
    "\n",
    "pattern_idx = 0\n",
    "for x in pattern:\n",
    "    pattern_idx = pattern_idx * 14 + (discourse_labels.index(x) - 1)\n",
    "print(pattern, pattern_idx)\n",
    "\n",
    "scores = []\n",
    "ids = []\n",
    "for x in train+valid+test:\n",
    "    if len(pattern) <= len(x[\"discourse_label\"]) - 1:\n",
    "        array = th.tensor(x[\"discourse_logit\"][-len(pattern):])[:, 1:].softmax(-1)\n",
    "        if array.shape[0] == 1:\n",
    "            scores.append(array[pattern_idx].item())\n",
    "            ids.append(x[\"id\"])\n",
    "        else:\n",
    "            o = th.ger(array[0], array[1]).view(-1)\n",
    "            for i in range(2, array.shape[0]):\n",
    "                o = th.ger(o, array[i]).view(-1)\n",
    "            scores.append(o[pattern_idx].item())\n",
    "            ids.append(x[\"id\"])"
   ]
  },
  {
   "cell_type": "code",
   "execution_count": 904,
   "metadata": {},
   "outputs": [
    {
     "name": "stdout",
     "output_type": "stream",
     "text": [
      "5170 1108 1108\n"
     ]
    }
   ],
   "source": [
    "print(len(train), len(valid), len(test))"
   ]
  },
  {
   "cell_type": "code",
   "execution_count": 905,
   "metadata": {},
   "outputs": [],
   "source": [
    "scores = th.tensor(scores)\n",
    "sorted_idx = (-scores).argsort()"
   ]
  },
  {
   "cell_type": "code",
   "execution_count": 908,
   "metadata": {},
   "outputs": [
    {
     "name": "stdout",
     "output_type": "stream",
     "text": [
      "tensor([3161, 2690, 2003, 2607, 3499, 4052, 4199, 5030, 1876, 1890])\n"
     ]
    }
   ],
   "source": [
    "print(sorted_idx[:10])\n"
   ]
  },
  {
   "cell_type": "code",
   "execution_count": 910,
   "metadata": {},
   "outputs": [
    {
     "name": "stdout",
     "output_type": "stream",
     "text": [
      "['train_3970', 'train_3397', 'train_2539', 'train_3290', 'train_4400', 'train_5081', 'valid_102', 'test_44', 'train_2382', 'train_2403']\n"
     ]
    }
   ],
   "source": [
    "print([ids[idx] for idx in sorted_idx[:10]])"
   ]
  },
  {
   "cell_type": "code",
   "execution_count": 933,
   "metadata": {},
   "outputs": [
    {
     "data": {
      "text/plain": [
       "Counter({'IMPACTFUL': 3, 'NOT IMPACTFUL': 2, 'MEDIUM IMPACT': 1})"
      ]
     },
     "execution_count": 933,
     "metadata": {},
     "output_type": "execute_result"
    }
   ],
   "source": [
    "Counter([train[int(ids[idx].split(\"_\")[1])][\"label\"] for idx in sorted_idx[:6]])"
   ]
  },
  {
   "cell_type": "code",
   "execution_count": 944,
   "metadata": {},
   "outputs": [
    {
     "name": "stdout",
     "output_type": "stream",
     "text": [
      "['Globalization is a good thing.', 'The European Union should become a United States of Europe', 'Social justice movements should abandon the use of no-platforming at universities', 'The European Union should become a United States of Europe', 'The European Union should become a United States of Europe', 'The U.S. had to use nuclear weapons to achieve its goal of Japan unconditionally surrendering.']\n"
     ]
    }
   ],
   "source": [
    "print([train[int(ids[idx].split(\"_\")[1])][\"context\"][0] for idx in sorted_idx[:6]], sep=\"\\n\")"
   ]
  },
  {
   "cell_type": "code",
   "execution_count": 942,
   "metadata": {},
   "outputs": [
    {
     "name": "stdout",
     "output_type": "stream",
     "text": [
      "['Donald Trump is a good President', 'Eating meat is wrong.']\n"
     ]
    }
   ],
   "source": [
    "print([train[int(ids[idx].split(\"_\")[1])][\"context\"][0] for idx in sorted_idx[8:10]])"
   ]
  },
  {
   "cell_type": "code",
   "execution_count": 936,
   "metadata": {},
   "outputs": [
    {
     "name": "stdout",
     "output_type": "stream",
     "text": [
      "The electoral college should be abolished.\n"
     ]
    }
   ],
   "source": [
    "print(test[44][\"context\"][0])"
   ]
  },
  {
   "cell_type": "code",
   "execution_count": 939,
   "metadata": {},
   "outputs": [
    {
     "name": "stdout",
     "output_type": "stream",
     "text": [
      "The UK should remain in the EU if a hard Brexit is the only alternative option. IMPACTFUL\n"
     ]
    }
   ],
   "source": [
    "print(valid[102][\"context\"][0], valid[102][\"label\"])"
   ]
  },
  {
   "cell_type": "code",
   "execution_count": 925,
   "metadata": {},
   "outputs": [
    {
     "name": "stdout",
     "output_type": "stream",
     "text": [
      "train_4400 tensor(0.2160)\n"
     ]
    },
    {
     "data": {
      "text/plain": [
       "{'id': 'train_4400',\n",
       " 'text': ['Europeans have a track record of bringing harm to others when they were the most influential global power.'],\n",
       " 'context': ['The European Union should become a United States of Europe',\n",
       "  'The USE would take its place as a global player on the international scene.'],\n",
       " 'label': 'NOT IMPACTFUL',\n",
       " 'stance_label': ['<null>', '<pro>', '<con>'],\n",
       " 'discourse_label': ['<Null>', '<Restatement>', '<Reason>'],\n",
       " 'discourse_logit': [[1e+30,\n",
       "   0.0,\n",
       "   0.0,\n",
       "   0.0,\n",
       "   0.0,\n",
       "   0.0,\n",
       "   0.0,\n",
       "   0.0,\n",
       "   0.0,\n",
       "   0.0,\n",
       "   0.0,\n",
       "   0.0,\n",
       "   0.0,\n",
       "   0.0,\n",
       "   0.0],\n",
       "  [-1e+30,\n",
       "   -1.1880561113357544,\n",
       "   0.7782547473907471,\n",
       "   2.9664623737335205,\n",
       "   1.4466761350631714,\n",
       "   -3.3021152019500732,\n",
       "   -2.3806819915771484,\n",
       "   -0.7460520267486572,\n",
       "   2.27087140083313,\n",
       "   -3.1542818546295166,\n",
       "   -0.2523547112941742,\n",
       "   3.810153007507324,\n",
       "   -0.869257926940918,\n",
       "   -1.906780481338501,\n",
       "   -1.0022499561309814],\n",
       "  [-1e+30,\n",
       "   0.49557483196258545,\n",
       "   2.2206387519836426,\n",
       "   3.2639834880828857,\n",
       "   0.8545048236846924,\n",
       "   -3.4630494117736816,\n",
       "   -2.860734701156616,\n",
       "   -1.8141560554504395,\n",
       "   2.5164101123809814,\n",
       "   -3.3718502521514893,\n",
       "   0.41989728808403015,\n",
       "   2.41308856010437,\n",
       "   -1.9126768112182617,\n",
       "   -1.1456329822540283,\n",
       "   -0.866744875907898]]}"
      ]
     },
     "execution_count": 925,
     "metadata": {},
     "output_type": "execute_result"
    }
   ],
   "source": [
    "print(ids[3499], scores[3499])\n",
    "train[int(ids[3499].split(\"_\")[1])]"
   ]
  },
  {
   "cell_type": "code",
   "execution_count": 926,
   "metadata": {},
   "outputs": [
    {
     "data": {
      "text/plain": [
       "Counter({'<Restatement>': 83,\n",
       "         '<Reason>': 37,\n",
       "         '<Conjunction>': 20,\n",
       "         '<Result>': 10,\n",
       "         '<Contrast>': 12})"
      ]
     },
     "execution_count": 926,
     "metadata": {},
     "output_type": "execute_result"
    }
   ],
   "source": [
    "Counter(chain.from_iterable([x[\"discourse_label\"][1:] for x in train+valid+test if x[\"context\"][0] == 'The European Union should become a United States of Europe']))"
   ]
  },
  {
   "cell_type": "code",
   "execution_count": 927,
   "metadata": {},
   "outputs": [
    {
     "data": {
      "text/plain": [
       "Counter({'<Reason>': 22,\n",
       "         '<Conjunction>': 18,\n",
       "         '<Restatement>': 24,\n",
       "         '<Contrast>': 4,\n",
       "         '<Result>': 2})"
      ]
     },
     "execution_count": 927,
     "metadata": {},
     "output_type": "execute_result"
    }
   ],
   "source": [
    "Counter([x[\"discourse_label\"][-1] for x in train+valid+test if x[\"context\"][0] == 'The European Union should become a United States of Europe'])"
   ]
  },
  {
   "cell_type": "code",
   "execution_count": 929,
   "metadata": {},
   "outputs": [
    {
     "data": {
      "text/plain": [
       "Counter({('<Restatement>', '<Reason>'): 12,\n",
       "         ('<Reason>', '<Reason>'): 2,\n",
       "         ('<Restatement>', '<Conjunction>'): 12,\n",
       "         ('<Restatement>', '<Restatement>'): 11,\n",
       "         ('<Null>', '<Restatement>'): 7,\n",
       "         ('<Reason>', '<Conjunction>'): 2,\n",
       "         ('<Reason>', '<Restatement>'): 3,\n",
       "         ('<Result>', '<Reason>'): 1,\n",
       "         ('<Null>', '<Reason>'): 1,\n",
       "         ('<Result>', '<Conjunction>'): 4,\n",
       "         ('<Contrast>', '<Reason>'): 6,\n",
       "         ('<Contrast>', '<Restatement>'): 1,\n",
       "         ('<Conjunction>', '<Restatement>'): 2,\n",
       "         ('<Restatement>', '<Contrast>'): 2,\n",
       "         ('<Restatement>', '<Result>'): 1,\n",
       "         ('<Reason>', '<Result>'): 1,\n",
       "         ('<Result>', '<Contrast>'): 1,\n",
       "         ('<Reason>', '<Contrast>'): 1})"
      ]
     },
     "execution_count": 929,
     "metadata": {},
     "output_type": "execute_result"
    }
   ],
   "source": [
    "Counter([tuple(x[\"discourse_label\"][-2:]) for x in train+valid+test if x[\"context\"][0] == 'The European Union should become a United States of Europe'])"
   ]
  },
  {
   "cell_type": "code",
   "execution_count": null,
   "metadata": {},
   "outputs": [],
   "source": []
  },
  {
   "cell_type": "code",
   "execution_count": 928,
   "metadata": {},
   "outputs": [
    {
     "data": {
      "text/plain": [
       "Counter({'NOT IMPACTFUL': 12, 'IMPACTFUL': 57, 'MEDIUM IMPACT': 1})"
      ]
     },
     "execution_count": 928,
     "metadata": {},
     "output_type": "execute_result"
    }
   ],
   "source": [
    "Counter([x[\"label\"] for x in train+valid+test if x[\"context\"][0] == 'The European Union should become a United States of Europe'])"
   ]
  },
  {
   "cell_type": "code",
   "execution_count": 931,
   "metadata": {},
   "outputs": [
    {
     "data": {
      "text/plain": [
       "Counter({'NOT IMPACTFUL': 3, 'IMPACTFUL': 8, 'MEDIUM IMPACT': 1})"
      ]
     },
     "execution_count": 931,
     "metadata": {},
     "output_type": "execute_result"
    }
   ],
   "source": [
    "Counter([x[\"label\"] for x in train+valid+test if x[\"context\"][0] == 'The European Union should become a United States of Europe' and x[\"discourse_label\"][-2:] == ['<Restatement>', '<Reason>']])"
   ]
  },
  {
   "cell_type": "code",
   "execution_count": 822,
   "metadata": {},
   "outputs": [
    {
     "name": "stdout",
     "output_type": "stream",
     "text": [
      "train_4459 tensor(0.3695)\n"
     ]
    },
    {
     "data": {
      "text/plain": [
       "{'id': 'train_4459',\n",
       " 'text': ['Crime isn’t solved by the death penalty though. In other words, if it were effective at protecting the public, crime should decrease. It doesn’t.'],\n",
       " 'context': ['Capital punishment should be abolished in the United States.',\n",
       "  'Capital punishment protects public safety by ensuring that convicted criminals do not ever offend again.'],\n",
       " 'label': 'IMPACTFUL',\n",
       " 'stance_label': ['<null>', '<con>', '<con>'],\n",
       " 'discourse_label': ['<Null>', '<Reason>', '<Contrast>'],\n",
       " 'discourse_logit': [[1e+30,\n",
       "   0.0,\n",
       "   0.0,\n",
       "   0.0,\n",
       "   0.0,\n",
       "   0.0,\n",
       "   0.0,\n",
       "   0.0,\n",
       "   0.0,\n",
       "   0.0,\n",
       "   0.0,\n",
       "   0.0,\n",
       "   0.0,\n",
       "   0.0,\n",
       "   0.0],\n",
       "  [-1e+30,\n",
       "   -0.25031667947769165,\n",
       "   1.9440743923187256,\n",
       "   4.603143692016602,\n",
       "   1.978386640548706,\n",
       "   -3.621002197265625,\n",
       "   -2.8120765686035156,\n",
       "   -1.2051892280578613,\n",
       "   2.8985188007354736,\n",
       "   -3.555986166000366,\n",
       "   -0.3591235280036926,\n",
       "   2.756118059158325,\n",
       "   -2.4852917194366455,\n",
       "   -2.4945592880249023,\n",
       "   -1.0789655447006226],\n",
       "  [-1e+30,\n",
       "   1.5356931686401367,\n",
       "   3.79447603225708,\n",
       "   1.2075680494308472,\n",
       "   1.8601202964782715,\n",
       "   -3.498528003692627,\n",
       "   -2.3879969120025635,\n",
       "   -0.3272339999675751,\n",
       "   1.7683732509613037,\n",
       "   -3.4340360164642334,\n",
       "   0.7244516015052795,\n",
       "   2.4637904167175293,\n",
       "   -1.2061222791671753,\n",
       "   -3.5102083683013916,\n",
       "   -1.9977917671203613]]}"
      ]
     },
     "execution_count": 822,
     "metadata": {},
     "output_type": "execute_result"
    }
   ],
   "source": [
    "print(ids[3548], scores[3548])\n",
    "train[4459]"
   ]
  },
  {
   "cell_type": "code",
   "execution_count": null,
   "metadata": {},
   "outputs": [],
   "source": []
  }
 ],
 "metadata": {
  "kernelspec": {
   "display_name": "Python 3",
   "language": "python",
   "name": "python3"
  },
  "language_info": {
   "codemirror_mode": {
    "name": "ipython",
    "version": 3
   },
   "file_extension": ".py",
   "mimetype": "text/x-python",
   "name": "python",
   "nbconvert_exporter": "python",
   "pygments_lexer": "ipython3",
   "version": "3.7.10"
  }
 },
 "nbformat": 4,
 "nbformat_minor": 4
}
